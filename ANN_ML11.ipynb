{
  "nbformat": 4,
  "nbformat_minor": 0,
  "metadata": {
    "colab": {
      "provenance": []
    },
    "kernelspec": {
      "name": "python3",
      "display_name": "Python 3"
    },
    "language_info": {
      "name": "python"
    }
  },
  "cells": [
    {
      "cell_type": "code",
      "execution_count": null,
      "metadata": {
        "colab": {
          "base_uri": "https://localhost:8080/"
        },
        "id": "vwy_7JeMBIrt",
        "outputId": "7ffee07e-2669-4e48-ec52-a61b52b1f02c"
      },
      "outputs": [
        {
          "output_type": "stream",
          "name": "stdout",
          "text": [
            "Accuracy is:  98.05555555555556\n",
            "Confusion matrix :\n",
            "  [[37  0  0  0  0  0  0  1  0  0]\n",
            " [ 0 32  0  0  0  0  0  0  0  0]\n",
            " [ 0  0 41  0  0  0  0  0  0  0]\n",
            " [ 0  0  0 32  0  1  0  0  0  0]\n",
            " [ 0  1  0  0 36  0  0  0  0  0]\n",
            " [ 0  1  0  1  0 36  0  0  0  0]\n",
            " [ 0  0  0  0  0  0 35  0  0  0]\n",
            " [ 0  0  0  0  0  0  0 38  0  0]\n",
            " [ 0  2  0  0  0  0  0  0 31  0]\n",
            " [ 0  0  0  0  0  0  0  0  0 35]]\n"
          ]
        }
      ],
      "source": [
        "#ANN\n",
        "import numpy as np\n",
        "from sklearn.datasets import load_digits\n",
        "from sklearn.model_selection import train_test_split\n",
        "from sklearn.neural_network import MLPClassifier\n",
        "from sklearn.metrics import confusion_matrix, accuracy_score\n",
        "\n",
        "dataset = load_digits()\n",
        "\n",
        "x_train, x_test, y_train, y_test = train_test_split(dataset.data, dataset.target, test_size=0.20, random_state=4)\n",
        "\n",
        "NN = MLPClassifier()\n",
        "\n",
        "NN.fit(x_train, y_train)\n",
        "\n",
        "y_pred = NN.predict(x_test)\n",
        "\n",
        "accuracy = accuracy_score(y_test,y_pred)*100\n",
        "print(\"Accuracy is: \",accuracy)\n",
        "\n",
        "confusion_mat = confusion_matrix(y_test,y_pred)\n",
        "print(\"Confusion matrix :\\n \",confusion_mat)\n"
      ]
    }
  ]
}